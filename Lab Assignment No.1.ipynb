{
 "cells": [
  {
   "cell_type": "markdown",
   "metadata": {},
   "source": [
    "Lab Assignment No.1"
   ]
  },
  {
   "cell_type": "markdown",
   "metadata": {},
   "source": [
    "Lab Exercise 1:"
   ]
  },
  {
   "cell_type": "code",
   "execution_count": 1,
   "metadata": {},
   "outputs": [
    {
     "name": "stdout",
     "output_type": "stream",
     "text": [
      "Enter your name: Ojas Telwane\n",
      "Ojas Telwane\n"
     ]
    }
   ],
   "source": [
    "# 1. Write a program that asks the user for his name and then welcomes him. The output should look like this:\n",
    "\n",
    "# Enter your name: Saksham\n",
    "# Hello Saksham\n",
    "\n",
    "# answer\n",
    "\n",
    "name = input(\"Enter your name: \")\n",
    "print(name)"
   ]
  },
  {
   "cell_type": "code",
   "execution_count": 3,
   "metadata": {},
   "outputs": [
    {
     "name": "stdout",
     "output_type": "stream",
     "text": [
      "Enter the First Number: 45\n",
      "Enter the Second Number: 98\n",
      "Total of two numbers 45 and 98 is: 143.0 \n",
      "\n",
      "Method Two (uses less Memeory)\n",
      "\n",
      "Enter first number: 78\n",
      "Enter second number: 25\n",
      "The sum is 103.0\n"
     ]
    }
   ],
   "source": [
    "# 2. Write a program that prompts the user to enter two integers and display the total on the screen.\n",
    "\n",
    "# answer\n",
    "\n",
    "firstNum = input(\"Enter the First Number: \")\n",
    "secondNum = input(\"Enter the Second Number: \")\n",
    "sum=float(firstNum)+float(secondNum)\n",
    "print(\"Total of two numbers {0} and {1} is: {2} \".format(firstNum, secondNum, sum))\n",
    "\n",
    "# Method Two (uses less Memeory)\n",
    "print(\"\\nMethod Two (uses less Memeory)\\n\")\n",
    "print('The sum is %.1f' %(float(input('Enter first number: ')) + float(input('Enter second number: '))))\n",
    "\n",
    "\n"
   ]
  },
  {
   "cell_type": "code",
   "execution_count": 8,
   "metadata": {},
   "outputs": [
    {
     "name": "stdout",
     "output_type": "stream",
     "text": [
      "Enter the temperature in degree Celsius: 37.5\n",
      "Converting of Celsius to Fahrenhiet ==> 37.5 degree Celsius = 99.5 degree Fahrenhiet\n"
     ]
    }
   ],
   "source": [
    "# 3. Write a program that prompts the user to input a Celsius temperature and outputs the equivalent temperature in Fahrenheit.\n",
    "# The formula to convert the temperature is: F = 9/5 C + 32 where F is the Fahrenheit temperature and C is the Celsius \n",
    "# temperature.\n",
    "\n",
    "# answer\n",
    "C=input(\"Enter the temperature in degree Celsius: \")\n",
    "F = (9/5)*float(C) + 32\n",
    "print(\"Converting of Celsius to Fahrenhiet ==> {0} degree Celsius = {1} degree Fahrenhiet\".format(C, F))"
   ]
  },
  {
   "cell_type": "code",
   "execution_count": 26,
   "metadata": {},
   "outputs": [
    {
     "name": "stdout",
     "output_type": "stream",
     "text": [
      "Enter the Principle Amount: 50000\n",
      "Enter the Interest Rate: 5\n",
      "Enter the Time Period in Years: 8\n",
      "the Simple Interest on Principle=Rs50000.0, Rate=5.0 % and Time duration=8.0 yrs is Rs20000.0/-\n"
     ]
    }
   ],
   "source": [
    "# 4. Write a program which accept principle, rate and time from user and print the simple interest. \n",
    "# The formula to calculate simple interest is: simple interest = principle x rate x time / 100\n",
    "\n",
    "# answer \n",
    "principle = float(input(\"Enter the Principle Amount: \"))\n",
    "interest_rate = float(input(\"Enter the Interest Rate: \"))\n",
    "time_period = float(input(\"Enter the Time Period in Years: \"))\n",
    "\n",
    "print(\"the Simple Interest on Principle=Rs{0}, Rate={1} % and Time duration={2} yrs is Rs{3}/-\".format(principle, interest_rate, time_period, (principle*interest_rate*time_period)/100))"
   ]
  },
  {
   "cell_type": "code",
   "execution_count": 34,
   "metadata": {},
   "outputs": [
    {
     "name": "stdout",
     "output_type": "stream",
     "text": [
      "Enter Seconds: 13400\n",
      "Hours: 3\n",
      "Minutes: 43\n",
      "Seconds: 20\n"
     ]
    }
   ],
   "source": [
    "# 5. Write a program that accepts seconds from keyboard as integer. Your program should converts seconds in hours, minutes \n",
    "# and seconds. Your output should like this :\n",
    "\n",
    "# Enter seconds: 13400\n",
    "# Hours: 3\n",
    "# Minutes: 43\n",
    "# Seconds: 20\n",
    "\n",
    "# answer\n",
    "\n",
    "seconds= int(input(\"Enter Seconds: \"))\n",
    "print(\"Hours: {0}\".format(seconds//3600))\n",
    "print(\"Minutes: {0}\".format((seconds%3600)//60))\n",
    "print(\"Seconds: {0}\".format(seconds%60))"
   ]
  },
  {
   "cell_type": "code",
   "execution_count": 5,
   "metadata": {},
   "outputs": [
    {
     "name": "stdout",
     "output_type": "stream",
     "text": [
      "Enter 1st number: 45\n",
      "Enter 2nd number: 65\n",
      "Enter 1st number:  65\n",
      "Enter 2nd number:  45\n"
     ]
    }
   ],
   "source": [
    "# Write a program that prompts the user to enter number in two variables and swap the contents of the variables.\n",
    "\n",
    "# answer\n",
    "\n",
    "first_num=input(\"Enter 1st number: \")\n",
    "second_num=input(\"Enter 2nd number: \")\n",
    "print(\"Before Swapping\")\n",
    "print(\"Enter 1st number: \", first_num)\n",
    "print(\"Enter 2nd number: \", second_num)\n",
    "\n",
    "# Swapping Logic\n",
    "\n",
    "print(\"After Swapping\")\n",
    "first_num, second_num = second_num, first_num\n",
    "print(\"Enter 1st number: \", first_num)\n",
    "print(\"Enter 2nd number: \", second_num)"
   ]
  },
  {
   "cell_type": "code",
   "execution_count": 7,
   "metadata": {},
   "outputs": [
    {
     "name": "stdout",
     "output_type": "stream",
     "text": [
      "Enter 1st number: 89\n",
      "Enter 2nd number: 12\n",
      "Before Swapping\n",
      "Enter 1st number:  89\n",
      "Enter 2nd number:  12\n",
      "After Swapping\n",
      "Enter 1st number:  12\n",
      "Enter 2nd number:  89\n"
     ]
    }
   ],
   "source": [
    "# 7. Write a program that prompts the user to enter number in two variables and swap the contents of the variables. \n",
    "# (Do not declare extra variable.)\n",
    "\n",
    "# answer\n",
    "\n",
    "first_num=input(\"Enter 1st number: \")\n",
    "second_num=input(\"Enter 2nd number: \")\n",
    "print(\"Before Swapping\")\n",
    "print(\"Enter 1st number: \", first_num)\n",
    "print(\"Enter 2nd number: \", second_num)\n",
    "\n",
    "# Swapping Logic\n",
    "\n",
    "print(\"After Swapping\")\n",
    "first_num, second_num = second_num, first_num\n",
    "print(\"Enter 1st number: \", first_num)\n",
    "print(\"Enter 2nd number: \", second_num)"
   ]
  },
  {
   "cell_type": "code",
   "execution_count": 23,
   "metadata": {},
   "outputs": [
    {
     "name": "stdout",
     "output_type": "stream",
     "text": [
      "Enter the radius of circle: 15.5\n",
      "Area of Circle: 754.7676350249478 \n",
      "Circumference of Circle: 97.38937226128358\n"
     ]
    }
   ],
   "source": [
    "# 8. Write a program that prompts the user to input the radius of a circle and outputs the area and circumference of the circle.\n",
    "# The formula is Area = pi x radius2 Circumference = 2 x pi x radius\n",
    "\n",
    "# answer\n",
    "\n",
    "import math\n",
    "\n",
    "radius=float(input(\"Enter the radius of circle: \"))\n",
    "print(\"Area of Circle: {0} \\nCircumference of Circle: {1}\".format((math.pi*radius*radius), (2*math.pi*radius) ))"
   ]
  },
  {
   "cell_type": "code",
   "execution_count": 13,
   "metadata": {},
   "outputs": [
    {
     "name": "stdout",
     "output_type": "stream",
     "text": [
      "Enter the length of Rectangle: 45\n",
      "Enter the width of Rectangle: 32\n",
      "Area of Rectangle: 1440 \n",
      "Circumference of Rectangle: 154\n"
     ]
    }
   ],
   "source": [
    "# 9. Write a program that prompts the user to input the length and the width of a rectangle and outputs the area and \n",
    "# circumference of the rectangle. The formula is Area = Length x Width Circumference = 2 x (Length + Width)\n",
    "\n",
    "# answer\n",
    "\n",
    "length=int(input(\"Enter the length of Rectangle: \"))\n",
    "width=int(input(\"Enter the width of Rectangle: \"))\n",
    "print(\"Area of Rectangle: {0} \\nCircumference of Rectangle: {1}\".format((length*width), (2*(length+width))))"
   ]
  },
  {
   "cell_type": "code",
   "execution_count": 1,
   "metadata": {},
   "outputs": [
    {
     "name": "stdout",
     "output_type": "stream",
     "text": [
      "Enter length of side 1: 45\n",
      "Enter length of side 2: 25\n",
      "Enter length of side 3: 65\n",
      "Area of Triangle is:  401.70534910553533\n"
     ]
    }
   ],
   "source": [
    "# Suppose a, b, and c denote the lengths of the sides of a triangle. Then the area of the triangle can be calculated using the\n",
    "# formula:\n",
    "\n",
    "# answer\n",
    "import math\n",
    "a= float(input(\"Enter length of side 1: \"))\n",
    "b= float(input(\"Enter length of side 2: \"))\n",
    "c= float(input(\"Enter length of side 3: \"))\n",
    "\n",
    "s = (a + b + c)/2\n",
    "area = math.sqrt(s*(s - a)*(s - b)*(s - c))\n",
    "print(\"Area of Triangle is: \", area)"
   ]
  },
  {
   "cell_type": "code",
   "execution_count": 32,
   "metadata": {},
   "outputs": [
    {
     "name": "stdout",
     "output_type": "stream",
     "text": [
      "Enter the Principle Amount: 50000\n",
      "Enter the Interest Rate: 5\n",
      "Enter the Time Period in Years: 8\n",
      "the Simple Interest on Principle=Rs 50000.0, Rate=5.0 % and Time duration=8.0 yrs is Rs 23872.772189453157/-\n"
     ]
    }
   ],
   "source": [
    "# Write a program which prompts the user to input principle, rate and time and calculate compound interest. \n",
    "# The formula is: CI = P(1+R/100) ^T - P\n",
    "\n",
    "# answer \n",
    "import math\n",
    "P = float(input(\"Enter the Principle Amount: \"))\n",
    "R = float(input(\"Enter the Interest Rate: \"))\n",
    "T = float(input(\"Enter the Time Period in Years: \"))\n",
    "CI=float(P*pow((1+(R/100)),T) - P)\n",
    "print(\"the Simple Interest on Principle=Rs {0}, Rate={1} % and Time duration={2} yrs is Rs {3}/-\".format(P, R, T, CI))"
   ]
  },
  {
   "cell_type": "markdown",
   "metadata": {},
   "source": [
    "Lab Exercise 2:"
   ]
  },
  {
   "cell_type": "code",
   "execution_count": 33,
   "metadata": {},
   "outputs": [
    {
     "name": "stdout",
     "output_type": "stream",
     "text": [
      "Enter first number 5\n",
      "Enter second number 6\n",
      "Enter third number 1\n",
      "Largest number is 6\n"
     ]
    }
   ],
   "source": [
    "# 1. Write a function find_max that accepts three numbers as arguments and returns the largest number among three. \n",
    "# Write another function main, in main () function accept three numbers from user and call find_max.\n",
    "\n",
    "# answer\n",
    "def find_max(x, y, z):\n",
    "    if x > y and x > z:\n",
    "        return x\n",
    "    elif y > z:\n",
    "        return y\n",
    "    else:\n",
    "        return z\n",
    "\n",
    "def main():\n",
    "    a = int(input(\"Enter first number: \"))\n",
    "    b = int(input(\"Enter second number: \"))\n",
    "    c = int(input(\"Enter third number: \"))\n",
    "    largest = find_max(a, b, c)\n",
    "    print(\"Largest number is \", largest)\n",
    "\n",
    "main()"
   ]
  },
  {
   "cell_type": "code",
   "execution_count": 39,
   "metadata": {},
   "outputs": [
    {
     "name": "stdout",
     "output_type": "stream",
     "text": [
      "Enter a text: Hello World\n",
      "Number of vowels in the string 'Hello World' are 3\n"
     ]
    }
   ],
   "source": [
    "# 2. Write a function, is_vowel that returns the value true if a given character is a vowel, and otherwise returns false.\n",
    "# Write another function main, in main () function accept a string from user and count number of vowels in that string.\n",
    "\n",
    "# answer\n",
    "def is_vowel(letter):\n",
    "    vowel_str='aeiouAEIOU'\n",
    "    if letter in vowel_str:\n",
    "        return True\n",
    "    else:\n",
    "        return False\n",
    "\n",
    "def main():\n",
    "    count = 0\n",
    "    string = input('Enter a text: ')\n",
    "    for ch in string:\n",
    "        if(is_vowel(ch)):\n",
    "            count += 1\n",
    "\n",
    "    print(\"Number of vowels in the string '{0}' are {1}\".format(string, count))\n",
    "\n",
    "main()"
   ]
  },
  {
   "cell_type": "code",
   "execution_count": 41,
   "metadata": {},
   "outputs": [
    {
     "name": "stdout",
     "output_type": "stream",
     "text": [
      "Enter the ending number: 500\n",
      "2 3 5 7 11 13 17 19 23 29 31 37 41 43 47 53 59 61 67 71 73 79 83 89 97 101 103 107 109 113 127 131 137 139 149 151 157 163 167 173 179 181 191 193 197 199 211 223 227 229 233 239 241 251 257 263 269 271 277 281 283 293 307 311 313 317 331 337 347 349 353 359 367 373 379 383 389 397 401 409 419 421 431 433 439 443 449 457 461 463 467 479 487 491 499 "
     ]
    }
   ],
   "source": [
    "# 3. Write a function named is_prime, which takes an integer as an argument and returns true if the argument is a prime number,\n",
    "# or false otherwise. Also, write the main function that displays prime numbers between 1 to 500.\n",
    "\n",
    "# answer\n",
    "def is_prime(number):\n",
    "    for i in range(2,number):\n",
    "        if number%i == 0:\n",
    "            return False\n",
    "    return True\n",
    "\n",
    "def main():\n",
    "    end=int(input(\"Enter the ending number: \"))\n",
    "    for num in range(2,end+1):\n",
    "        if is_prime(num):\n",
    "            print(num, end=\" \")\n",
    "\n",
    "main()"
   ]
  },
  {
   "cell_type": "code",
   "execution_count": 44,
   "metadata": {},
   "outputs": [
    {
     "name": "stdout",
     "output_type": "stream",
     "text": [
      "1925\n"
     ]
    }
   ],
   "source": [
    "# 4. Write a function in python to find the sum of the cube of elements in a list. The list is received as an argument \n",
    "# to the function, in turn, the function must return the sum. Write the main function which invokes the above function.\n",
    "\n",
    "# answer\n",
    "def sum(lst):\n",
    "    total = 0\n",
    "    for i in lst:\n",
    "        total += pow(i, 3)\n",
    "    return total\n",
    "\n",
    "def main():\n",
    "    lst = [5, 6, 7, 8, 9]\n",
    "    Sum = sum(lst)\n",
    "    print(Sum)\n",
    "\n",
    "main()"
   ]
  },
  {
   "cell_type": "code",
   "execution_count": 46,
   "metadata": {},
   "outputs": [
    {
     "name": "stdout",
     "output_type": "stream",
     "text": [
      "600\n"
     ]
    }
   ],
   "source": [
    "# 5. Write the definition of a function zero_ending(scores) to add all those values in the list of scores, which are \n",
    "# ending with zero and display the sum.\n",
    "# For example: If the scores contain [200, 456, 300, 100, 234, 678] The sum should be displayed as 600\n",
    "\n",
    "# answer\n",
    "def zero_endings(lst):\n",
    "    total = 0\n",
    "    for i in lst:\n",
    "        if(i%10==0):\n",
    "            total += i\n",
    "    return total\n",
    "\n",
    "def main():\n",
    "    lst = [200, 456, 300, 100, 234, 678]\n",
    "    Sum = zero_endings(lst)\n",
    "    print(Sum)\n",
    "\n",
    "main()"
   ]
  },
  {
   "cell_type": "code",
   "execution_count": 51,
   "metadata": {},
   "outputs": [
    {
     "name": "stdout",
     "output_type": "stream",
     "text": [
      "LONDON\n",
      "NEW YORK\n"
     ]
    }
   ],
   "source": [
    "# 6. Write a definition of a method count_now(places) to find and display those place names, in which there are more than\n",
    "# 5 characters.\n",
    "\n",
    "# For example: If the list places contain [\"DELHI\",\"LONDON\",\"PARIS\",\"NEW YORK\",\"DUBAI\"] \n",
    "# The following should get displayed: LONDON NEW YORK\n",
    "\n",
    "# answer\n",
    "def count_now(places):    \n",
    "    for i in places:\n",
    "        if(len(i)>5):\n",
    "            print(i)    \n",
    "\n",
    "def main():\n",
    "    places = [\"DELHI\",\"LONDON\",\"PARIS\",\"NEW YORK\",\"DUBAI\"] \n",
    "    count_now(places)    \n",
    "\n",
    "main()\n"
   ]
  },
  {
   "cell_type": "code",
   "execution_count": 58,
   "metadata": {},
   "outputs": [
    {
     "name": "stdout",
     "output_type": "stream",
     "text": [
      "Method 1\n",
      "414141\n",
      "DROND#\n",
      "GIRIRAJ#\n",
      "131313\n",
      "ZARA#\n",
      "\n",
      "Method 2\n",
      "414141\n",
      "DROND#\n",
      "GIRIRAJ#\n",
      "131313\n",
      "ZARA#\n"
     ]
    }
   ],
   "source": [
    "# 7. Write a method in python to display the elements of list thrice if it is a number and display the element terminated \n",
    "# with ‘#’ if it is not a number.\n",
    "# For example, if the content of list is as follows: ThisList= [‘41’, ‘DROND’, ‘GIRIRAJ’, ‘13’, ‘ZARA’] The output should be\n",
    "# 414141 DROND# GIRIRAJ# 131313 ZARA#\n",
    "\n",
    "# answer\n",
    "def method1(ThisList):    \n",
    "    for i in ThisList:\n",
    "        if(i[0]>='0' and i[0]<='9'):\n",
    "            print(i*3)\n",
    "        else:\n",
    "            print(i+'#')\n",
    "\n",
    "def method2(ThisList):    \n",
    "    for i in ThisList:\n",
    "        if(i.isdigit()):\n",
    "            print(i*3)\n",
    "        else:\n",
    "            print(i+'#')\n",
    "\n",
    "            \n",
    "def main():\n",
    "    ThisList = ['41', 'DROND', 'GIRIRAJ', '13', 'ZARA']\n",
    "    print(\"Method 1\")\n",
    "    method1(ThisList)\n",
    "    print(\"\\nMethod 2\")\n",
    "    method2(ThisList)\n",
    "    \n",
    "main()"
   ]
  },
  {
   "cell_type": "code",
   "execution_count": 68,
   "metadata": {},
   "outputs": [
    {
     "name": "stdout",
     "output_type": "stream",
     "text": [
      "Type a number to be searched: 11\n",
      "-1\n"
     ]
    }
   ],
   "source": [
    "# 8. For a given list of values in descending order, write a method in python to search for a value with the help of Binary \n",
    "# Search method. The method should return position of the value and should return -1 if the value not present in the list.\n",
    "\n",
    "# answer\n",
    "\n",
    "def main():\n",
    "    lst = [10, 9, 8, 7, 6, 5, 4, 3, 2, 1]\n",
    "    key=int(input(\"Type a number to be searched: \"))\n",
    "    start=0\n",
    "    check=-1\n",
    "    end=len(lst)-1\n",
    "    while(start<=end):\n",
    "        mid= int(start + (end-start)/2)\n",
    "        if(lst[mid]==key):\n",
    "            print(mid)\n",
    "            check=1\n",
    "            break\n",
    "        elif(lst[mid]>key):\n",
    "            start=mid+1\n",
    "        else:\n",
    "            end=mid-1\n",
    "    if(check!=1):\n",
    "        print(-1)\n",
    "    \n",
    "main()"
   ]
  },
  {
   "cell_type": "code",
   "execution_count": 79,
   "metadata": {},
   "outputs": [
    {
     "name": "stdout",
     "output_type": "stream",
     "text": [
      "Before calling 'half_and_half' function\n",
      "my_list1:  10 20 30 40 50 60\n",
      "my_list2:  10 20 30 40 50 60 70\n",
      "After calling 'half_and_half' function\n",
      "my_list1:  [40, 50, 60] 10 20 30\n",
      "my_list2:  [40, 50, 60, 70] 10 20 30\n"
     ]
    }
   ],
   "source": [
    "# 9. Write a function half_and_half that takes in a list and change the list such that the elements of the second half are \n",
    "# now in the first half.\n",
    "# For example, if the size of list is even and content of list is as follows : my_liist = [10,20,30,40,50,60] \n",
    "# The output should be [40,50,60,10,20,30] \n",
    "# if the size of list is odd and content of list is as follows : my_liist = [10,20,30,40,50,60,70] \n",
    "# The output should be [50,60,70,40,10,20,30]\n",
    "\n",
    "# answer\n",
    "my_list1 = [10,20,30,40,50,60]\n",
    "my_list2 = [10,20,30,40,50,60,70]\n",
    "\n",
    "def half_and_half(lst):\n",
    "    half = len(lst)//2\n",
    "    lisst = []\n",
    "    lisst.append(lst[half:])\n",
    "    for x in lst[:half]:\n",
    "      lisst.append(x)\n",
    "#     lisst.extend(lst[:half])\n",
    "    return lisst\n",
    "\n",
    "print(\"Before calling 'half_and_half' function\")\n",
    "print(\"my_list1: \", *my_list1)\n",
    "print(\"my_list2: \", *my_list2)\n",
    "my_list1=half_and_half(my_list1)\n",
    "my_list2=half_and_half(my_list2)\n",
    "print(\"After calling 'half_and_half' function\")\n",
    "print(\"my_list1: \", *my_list1)\n",
    "print(\"my_list2: \", *my_list2)\n",
    "\n"
   ]
  },
  {
   "cell_type": "code",
   "execution_count": 84,
   "metadata": {},
   "outputs": [
    {
     "name": "stdout",
     "output_type": "stream",
     "text": [
      "Dictionary contains replicate values\n",
      "Before Swapping\n",
      "{'One': 1, 'Two': 2, 'Three': 2}\n",
      "After Swapping\n",
      "{}\n",
      "\n",
      "Dictionary contains unique values\n",
      "Before Swapping\n",
      "{'One': 1, 'Two': 2, 'Three': 3}\n",
      "After Swapping\n",
      "{1: 'One', 2: 'Two', 3: 'Three'}\n"
     ]
    }
   ],
   "source": [
    "# 10. Write a function that accepts a dictionary as an argument. If the dictionary contains replicate values, \n",
    "# return an empty dictionary, otherwise, return a new dictionary whose values are now the keys and whose keys are the values.\n",
    "\n",
    "# answer\n",
    "def swap_key_value(d):\n",
    "    L = list(d.values())\n",
    "    for value in L:\n",
    "        if L.count(value) > 1:\n",
    "            return dict()\n",
    "\n",
    "    new_dict = {}\n",
    "    for k, v in d.items():\n",
    "        new_dict[v] = k\n",
    "    return new_dict\n",
    "\n",
    "print(\"Dictionary contains replicate values\")\n",
    "print(\"Before Swapping\")\n",
    "d = {'One':1,'Two':2,'Three':2}\n",
    "print(d)\n",
    "n = swap_key_value(d)\n",
    "print(\"After Swapping\")\n",
    "print(n)\n",
    "print(\"\\nDictionary contains unique values\")\n",
    "d = {'One':1,'Two':2,'Three':3}\n",
    "print(\"Before Swapping\")\n",
    "print(d)\n",
    "n = swap_key_value(d)\n",
    "print(\"After Swapping\")\n",
    "print(n)"
   ]
  },
  {
   "cell_type": "code",
   "execution_count": null,
   "metadata": {},
   "outputs": [],
   "source": []
  }
 ],
 "metadata": {
  "kernelspec": {
   "display_name": "Python 3",
   "language": "python",
   "name": "python3"
  },
  "language_info": {
   "codemirror_mode": {
    "name": "ipython",
    "version": 3
   },
   "file_extension": ".py",
   "mimetype": "text/x-python",
   "name": "python",
   "nbconvert_exporter": "python",
   "pygments_lexer": "ipython3",
   "version": "3.8.5"
  }
 },
 "nbformat": 4,
 "nbformat_minor": 4
}
