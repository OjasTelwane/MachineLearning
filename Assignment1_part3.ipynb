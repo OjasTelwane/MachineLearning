{
 "cells": [
  {
   "cell_type": "markdown",
   "metadata": {},
   "source": [
    "LAB Assignment no 1 Part 3"
   ]
  },
  {
   "cell_type": "markdown",
   "metadata": {},
   "source": [
    "43139 OJAS TELWANE IT BE-09"
   ]
  },
  {
   "cell_type": "markdown",
   "metadata": {},
   "source": [
    "Assignment 1 Python (Part 3 of first assignment)"
   ]
  },
  {
   "cell_type": "code",
   "execution_count": 1,
   "metadata": {},
   "outputs": [
    {
     "name": "stdout",
     "output_type": "stream",
     "text": [
      "Hello World\n"
     ]
    }
   ],
   "source": [
    "#Insert the missing part of the code below to output \"Hello World\".\n",
    "#______(\"Hello World\")\n",
    "\n",
    "# answer\n",
    "print(\"Hello World\")"
   ]
  },
  {
   "cell_type": "code",
   "execution_count": 2,
   "metadata": {},
   "outputs": [
    {
     "name": "stdout",
     "output_type": "stream",
     "text": [
      "Five is greater than two!\n"
     ]
    }
   ],
   "source": [
    "\"\"\" find the mistake of programme\n",
    "if 5 > 2:\n",
    "print\n",
    "(\n",
    "\"Five is greater than two!\"\n",
    ")\"\"\"\n",
    "\n",
    "# answer\n",
    "\n",
    "if (5>2):\n",
    "    print(\"Five is greater than two!\")"
   ]
  },
  {
   "cell_type": "code",
   "execution_count": 3,
   "metadata": {},
   "outputs": [
    {
     "data": {
      "text/plain": [
       "' ___This is a comment '"
      ]
     },
     "execution_count": 3,
     "metadata": {},
     "output_type": "execute_result"
    }
   ],
   "source": [
    "\"\"\" #Comments in Python are written with a special character, which one?\n",
    "___This is a comment\"\"\"\n",
    "\n",
    "# answer\n",
    "\n",
    "# ___This is a comment\n",
    "\"\"\" ___This is a comment \"\"\""
   ]
  },
  {
   "cell_type": "code",
   "execution_count": 4,
   "metadata": {},
   "outputs": [
    {
     "data": {
      "text/plain": [
       "'___This is a comment\\nwritten in\\nmore that just one line___'"
      ]
     },
     "execution_count": 4,
     "metadata": {},
     "output_type": "execute_result"
    }
   ],
   "source": [
    "\"\"\" #Use a multiline string to make the a multi line comment:\n",
    "___This is a comment\n",
    "written in\n",
    "more that just one line___\"\"\"\n",
    "\n",
    "# answer \n",
    "\n",
    "\"\"\"___This is a comment\n",
    "written in\n",
    "more that just one line___\"\"\""
   ]
  },
  {
   "cell_type": "code",
   "execution_count": 5,
   "metadata": {},
   "outputs": [
    {
     "name": "stdout",
     "output_type": "stream",
     "text": [
      "Volvo\n"
     ]
    }
   ],
   "source": [
    "#Create a variable named car and assign the value Volvo to it.\n",
    "\n",
    "# answer\n",
    "\n",
    "car = \"Volvo\"\n",
    "print(car)"
   ]
  },
  {
   "cell_type": "code",
   "execution_count": 6,
   "metadata": {},
   "outputs": [
    {
     "name": "stdout",
     "output_type": "stream",
     "text": [
      "50\n"
     ]
    }
   ],
   "source": [
    "#Create a variable named x and assign the value 50 to it.\n",
    "\n",
    "# answer\n",
    "\n",
    "x=50\n",
    "print(x)"
   ]
  },
  {
   "cell_type": "code",
   "execution_count": 7,
   "metadata": {},
   "outputs": [
    {
     "name": "stdout",
     "output_type": "stream",
     "text": [
      "15\n",
      "15\n"
     ]
    }
   ],
   "source": [
    "#Display the sum of 5 + 10, using two variables: x and y.\n",
    "\n",
    "# answer\n",
    "\n",
    "x=5\n",
    "y=10\n",
    "print(x+y)\n",
    "\n",
    "a, b =5, 10\n",
    "print(a+b)"
   ]
  },
  {
   "cell_type": "code",
   "execution_count": 8,
   "metadata": {},
   "outputs": [
    {
     "name": "stdout",
     "output_type": "stream",
     "text": [
      "36\n"
     ]
    }
   ],
   "source": [
    "#Create a variable called z, assign x + y to it, and display the result.\n",
    "\n",
    "# answer\n",
    "\n",
    "x, y = 17, 19\n",
    "z=x+y\n",
    "print(z)"
   ]
  },
  {
   "cell_type": "code",
   "execution_count": 9,
   "metadata": {
    "scrolled": true
   },
   "outputs": [
    {
     "name": "stdout",
     "output_type": "stream",
     "text": [
      "John\n"
     ]
    }
   ],
   "source": [
    "#Remove the illegal characters in the variable name:\n",
    "# 2my-first_name=\"John\"\n",
    "\n",
    "# answer\n",
    "\n",
    "my_first_name=\"John\"\n",
    "print(my_first_name)"
   ]
  },
  {
   "cell_type": "code",
   "execution_count": 10,
   "metadata": {},
   "outputs": [
    {
     "name": "stdout",
     "output_type": "stream",
     "text": [
      "Orange\n",
      "Orange\n",
      "Orange\n"
     ]
    }
   ],
   "source": [
    "#Insert the correct syntax to assign the same value to all three variables in one codeline.\n",
    "#x __ y __ z _ \"Orange\"\n",
    "\n",
    "# answer\n",
    "x=y=z=\"Orange\"\n",
    "print(x)\n",
    "print(y)\n",
    "print(z)"
   ]
  },
  {
   "cell_type": "code",
   "execution_count": 11,
   "metadata": {},
   "outputs": [
    {
     "name": "stdout",
     "output_type": "stream",
     "text": [
      "The result question 1 is : 600\n",
      "The result question 2 is : 70\n"
     ]
    }
   ],
   "source": [
    "\"\"\"\n",
    "Question : Given a two integer numbers return their product and if the product is greater than 1000,\n",
    " then return their sum\n",
    "Given:\n",
    "number1 = 20\n",
    "number2 = 30\n",
    "Expected Output:\n",
    "The result is 600\n",
    "Given:\n",
    "number1 = 40\n",
    "number2 = 30\n",
    "Expected Output:\n",
    "The result is 70 \"\"\"\n",
    "\n",
    "# answer\n",
    "number1, number2=20, 30\n",
    "if(number1*number2>1000):\n",
    "    print(\"The result for question 1 is :\", number1+number2)\n",
    "else:\n",
    "    print(\"The result question 1 is :\",number1*number2)\n",
    "    \n",
    "number1, number2=40, 30\n",
    "if(number1*number2>1000):\n",
    "    print(\"The result question 2 is :\",number1+number2)\n",
    "else:\n",
    "    print(\"The result question 2  is :\",number1*number2)    "
   ]
  },
  {
   "cell_type": "code",
   "execution_count": 12,
   "metadata": {},
   "outputs": [
    {
     "name": "stdout",
     "output_type": "stream",
     "text": [
      "(10, 20, 30, 40, 50)\n",
      "(50, 40, 30, 20, 10)\n"
     ]
    }
   ],
   "source": [
    "\"\"\" Question : Reverse the following tuple\n",
    "aTuple = (10, 20, 30, 40, 50)\n",
    "Expected output:\n",
    "(50, 40, 30, 20, 10)\"\"\"\n",
    "\n",
    "# answer\n",
    "\n",
    "aTuple = (10, 20, 30, 40, 50)\n",
    "print(aTuple)\n",
    "\n",
    "new_tuple = tuple(sorted(aTuple, reverse=True))\n",
    "print(new_tuple)"
   ]
  },
  {
   "cell_type": "code",
   "execution_count": 13,
   "metadata": {},
   "outputs": [
    {
     "name": "stdout",
     "output_type": "stream",
     "text": [
      "(10, 20, 30, 40, 50)\n",
      "(50, 40, 30, 20, 10)\n"
     ]
    }
   ],
   "source": [
    "# Method two\n",
    "aTuple = (10, 20, 30, 40, 50)\n",
    "print(aTuple)\n",
    "aTuple=aTuple[::-1]\n",
    "print(aTuple)"
   ]
  },
  {
   "cell_type": "code",
   "execution_count": 14,
   "metadata": {},
   "outputs": [
    {
     "name": "stdout",
     "output_type": "stream",
     "text": [
      "20\n"
     ]
    }
   ],
   "source": [
    "#Question : Access value 20 from the following tuple\n",
    "#aTuple = (\"Orange\", [10, 20, 30], (5, 15, 25))\n",
    "#Expected output:\n",
    "\n",
    "# answer\n",
    "\n",
    "aTuple = (\"Orange\", [10, 20, 30], (5, 15, 25))\n",
    "print(aTuple[1][1])"
   ]
  },
  {
   "cell_type": "code",
   "execution_count": 15,
   "metadata": {},
   "outputs": [
    {
     "name": "stdout",
     "output_type": "stream",
     "text": [
      "AJrpan\n"
     ]
    }
   ],
   "source": [
    "# Question : Given 2 strings, s1, and s2 return a new string made of the first, middleand last char each input string\n",
    "#Given:\n",
    "#s1 = \"America\"\n",
    "#s2 = \"Japan\"\n",
    "#Expected Output:\n",
    "#AJrpan\n",
    "\n",
    "# answer\n",
    "\n",
    "s1 = \"America\"\n",
    "s2 = \"Japan\"\n",
    "print(s1[0]+s2[0]+s1[len(s1) // 2]+s2[len(s2) //2]+s1[-1]+s2[-1])"
   ]
  },
  {
   "cell_type": "code",
   "execution_count": 16,
   "metadata": {},
   "outputs": [
    {
     "name": "stdout",
     "output_type": "stream",
     "text": [
      "[500, 400, 300, 200, 100]\n"
     ]
    }
   ],
   "source": [
    "# Question : Given a Python list you should be able to display Python list in the following order\n",
    "#aLsit = [100, 200, 300, 400, 500]\n",
    "#Expected output:\n",
    "#[500, 400, 300, 200, 100]\n",
    "\n",
    "# answer\n",
    "\n",
    "aLsit = [100, 200, 300, 400, 500]\n",
    "print(aLsit[::-1])"
   ]
  },
  {
   "cell_type": "code",
   "execution_count": 17,
   "metadata": {},
   "outputs": [
    {
     "name": "stdout",
     "output_type": "stream",
     "text": [
      "['My', 'name', 'is', 'Kelly']\n"
     ]
    }
   ],
   "source": [
    "#Question: Concatenate two lists index-wise\n",
    "#list1 = [\"M\", \"na\", \"i\", \"Ke\"]\n",
    "#list2 = [\"y\", \"me\", \"s\", \"lly\"]\n",
    "#Expected output:\n",
    "#['My', 'name', 'is', 'Kelly']\n",
    "\n",
    "# answer\n",
    "\n",
    "list1 = [\"M\", \"na\", \"i\", \"Ke\"]\n",
    "list2 = [\"y\", \"me\", \"s\", \"lly\"]\n",
    "result = []\n",
    "for i in range(len(list1)):\n",
    "    result.append(list1[i]+list2[i])\n",
    "\n",
    "print(result)"
   ]
  },
  {
   "cell_type": "code",
   "execution_count": 18,
   "metadata": {},
   "outputs": [
    {
     "name": "stdout",
     "output_type": "stream",
     "text": [
      "[(10, 400), (20, 300), (30, 200), (40, 100)]\n"
     ]
    }
   ],
   "source": [
    "#Question: Given a two Python list. Iterate both lists simultaneously such that list1 should display item\n",
    "# in original order and list2 in reverse order\n",
    "#list1 = [10, 20, 30, 40]\n",
    "#list2 = [100, 200, 300, 400]\n",
    "#Expected output:\n",
    "# 10 400\n",
    "# 20 300\n",
    "# 30 200\n",
    "# 40 100\n",
    "\n",
    "# answer\n",
    "\n",
    "list1 = [10, 20, 30, 40]\n",
    "list2 = [100, 200, 300, 400]\n",
    "\n",
    "print([(i, j) for i, j in zip(list1, list2[::-1])])\n"
   ]
  },
  {
   "cell_type": "code",
   "execution_count": 19,
   "metadata": {},
   "outputs": [
    {
     "name": "stdout",
     "output_type": "stream",
     "text": [
      "['Mike', 'Emma', 'Kelly', 'Brad']\n"
     ]
    }
   ],
   "source": [
    "#Question : Remove empty strings from the list of strings\n",
    "# list1 = [\"Mike\", \"\", \"Emma\", \"Kelly\", \"\", \"Brad\"]\n",
    "# Expected output:\n",
    "# [\"Mike\", \"Emma\", \"Kelly\", \"Brad\"]\n",
    "\n",
    "# answer\n",
    "\n",
    "list1 = [\"Mike\", \"\", \"Emma\", \"Kelly\", \"\", \"Brad\"]\n",
    "list1 = list(filter(None, list1))\n",
    "print(list1)"
   ]
  },
  {
   "cell_type": "code",
   "execution_count": 20,
   "metadata": {},
   "outputs": [
    {
     "name": "stdout",
     "output_type": "stream",
     "text": [
      "Twinkle, twinkle, little star,\n",
      "\tHow I wonder what you are!\n",
      "\t\tUp above the world so high,\n",
      "\t\tLike a diamond in the sky.\n",
      "Twinkle, twinkle, little star,\n",
      "\tHow I wonder what you are!\n"
     ]
    }
   ],
   "source": [
    "#Write a Python program to display output in given format\n",
    "\"\"\"\n",
    "Twinkle, twinkle, little star,\n",
    "        How I wonder what you are! \n",
    "                Up above the world so high, \n",
    "                Like a diamond in the sky. \n",
    "Twinkle, twinkle, little star, \n",
    "        How I wonder what you are!\"\"\"\n",
    "\n",
    "# answer\n",
    "\n",
    "print(\"Twinkle, twinkle, little star,\")\n",
    "print(\"\\tHow I wonder what you are!\")\n",
    "print(\"\\t\\tUp above the world so high,\")\n",
    "print(\"\\t\\tLike a diamond in the sky.\")\n",
    "print(\"Twinkle, twinkle, little star,\")\n",
    "print(\"\\tHow I wonder what you are!\")"
   ]
  },
  {
   "cell_type": "code",
   "execution_count": 21,
   "metadata": {},
   "outputs": [
    {
     "name": "stdout",
     "output_type": "stream",
     "text": [
      "Red Black\n"
     ]
    }
   ],
   "source": [
    "#Write a Python program to display the first and last colors from the following list.\n",
    "color_list = [\"Red\",\"Green\",\"White\" ,\"Black\"]\n",
    "\n",
    "# answer\n",
    "\n",
    "print(color_list[0], color_list[-1])"
   ]
  }
 ],
 "metadata": {
  "kernelspec": {
   "display_name": "Python 3",
   "language": "python",
   "name": "python3"
  },
  "language_info": {
   "codemirror_mode": {
    "name": "ipython",
    "version": 3
   },
   "file_extension": ".py",
   "mimetype": "text/x-python",
   "name": "python",
   "nbconvert_exporter": "python",
   "pygments_lexer": "ipython3",
   "version": "3.8.5"
  }
 },
 "nbformat": 4,
 "nbformat_minor": 4
}
